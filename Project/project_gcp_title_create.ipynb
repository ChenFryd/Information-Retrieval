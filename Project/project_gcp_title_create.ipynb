{
  "cells": [
    {
      "cell_type": "markdown",
      "id": "a00e032c",
      "metadata": {
        "id": "a00e032c"
      },
      "source": [
        "***Important*** DO NOT CLEAR THE OUTPUT OF THIS NOTEBOOK AFTER EXECUTION!!!"
      ]
    },
    {
      "cell_type": "code",
      "execution_count": null,
      "id": "5ac36d3a",
      "metadata": {
        "id": "5ac36d3a",
        "nbgrader": {
          "grade": false,
          "grade_id": "cell-Worker_Count",
          "locked": true,
          "schema_version": 3,
          "solution": false,
          "task": false
        },
        "outputId": "cf88b954-f39a-412a-d87e-660833e735b6"
      },
      "outputs": [
        {
          "name": "stdout",
          "output_type": "stream",
          "text": [
            "NAME          PLATFORM  PRIMARY_WORKER_COUNT  SECONDARY_WORKER_COUNT  STATUS   ZONE           SCHEDULED_DELETE\r\n",
            "cluster-35c2  GCE       2                                             RUNNING  us-central1-a\r\n"
          ]
        }
      ],
      "source": [
        "# if the following command generates an error, you probably didn't enable\n",
        "# the cluster security option \"Allow API access to all Google Cloud services\"\n",
        "# under Manage Security → Project Access when setting up the cluster\n",
        "!gcloud dataproc clusters list --region us-central1"
      ]
    },
    {
      "cell_type": "markdown",
      "id": "51cf86c5",
      "metadata": {
        "id": "51cf86c5"
      },
      "source": [
        "# Imports & Setup"
      ]
    },
    {
      "cell_type": "code",
      "execution_count": null,
      "id": "bf199e6a",
      "metadata": {
        "id": "bf199e6a",
        "nbgrader": {
          "grade": false,
          "grade_id": "cell-Setup",
          "locked": true,
          "schema_version": 3,
          "solution": false,
          "task": false
        },
        "outputId": "fc0e315d-21e9-411d-d69c-5b97e4e5d629"
      },
      "outputs": [
        {
          "name": "stdout",
          "output_type": "stream",
          "text": [
            "\u001b[33mWARNING: Running pip as the 'root' user can result in broken permissions and conflicting behaviour with the system package manager. It is recommended to use a virtual environment instead: https://pip.pypa.io/warnings/venv\u001b[0m\u001b[33m\n",
            "\u001b[0m\u001b[33mWARNING: Running pip as the 'root' user can result in broken permissions and conflicting behaviour with the system package manager. It is recommended to use a virtual environment instead: https://pip.pypa.io/warnings/venv\u001b[0m\u001b[33m\n",
            "\u001b[0m"
          ]
        }
      ],
      "source": [
        "!pip install -q google-cloud-storage==1.43.0\n",
        "!pip install -q graphframes"
      ]
    },
    {
      "cell_type": "code",
      "execution_count": null,
      "id": "d8f56ecd",
      "metadata": {
        "id": "d8f56ecd",
        "nbgrader": {
          "grade": false,
          "grade_id": "cell-Imports",
          "locked": true,
          "schema_version": 3,
          "solution": false,
          "task": false
        },
        "outputId": "a24aa24b-aa75-4823-83ca-1d7deef0f0de"
      },
      "outputs": [
        {
          "name": "stderr",
          "output_type": "stream",
          "text": [
            "[nltk_data] Downloading package stopwords to /root/nltk_data...\n",
            "[nltk_data]   Package stopwords is already up-to-date!\n"
          ]
        },
        {
          "data": {
            "text/plain": [
              "True"
            ]
          },
          "execution_count": 10,
          "metadata": {},
          "output_type": "execute_result"
        }
      ],
      "source": [
        "import pyspark\n",
        "import sys\n",
        "from collections import Counter, OrderedDict, defaultdict\n",
        "import itertools\n",
        "from itertools import islice, count, groupby\n",
        "import pandas as pd\n",
        "import os\n",
        "import re\n",
        "from operator import itemgetter\n",
        "import nltk\n",
        "from nltk.stem.porter import *\n",
        "from nltk.corpus import stopwords\n",
        "from time import time\n",
        "from pathlib import Path\n",
        "import pickle\n",
        "import pandas as pd\n",
        "from google.cloud import storage\n",
        "\n",
        "import hashlib\n",
        "def _hash(s):\n",
        "    return hashlib.blake2b(bytes(s, encoding='utf8'), digest_size=5).hexdigest()\n",
        "\n",
        "nltk.download('stopwords')"
      ]
    },
    {
      "cell_type": "code",
      "execution_count": null,
      "id": "38a897f2",
      "metadata": {
        "id": "38a897f2",
        "nbgrader": {
          "grade": false,
          "grade_id": "cell-jar",
          "locked": true,
          "schema_version": 3,
          "solution": false,
          "task": false
        },
        "outputId": "8f93a7ec-71e0-49c1-fc81-9af385849a90"
      },
      "outputs": [
        {
          "name": "stdout",
          "output_type": "stream",
          "text": [
            "-rw-r--r-- 1 root root 247882 Feb 20 09:06 /usr/lib/spark/jars/graphframes-0.8.2-spark3.1-s_2.12.jar\r\n"
          ]
        }
      ],
      "source": [
        "# if nothing prints here you forgot to include the initialization script when starting the cluster\n",
        "!ls -l /usr/lib/spark/jars/graph*"
      ]
    },
    {
      "cell_type": "code",
      "execution_count": null,
      "id": "47900073",
      "metadata": {
        "id": "47900073",
        "nbgrader": {
          "grade": false,
          "grade_id": "cell-pyspark-import",
          "locked": true,
          "schema_version": 3,
          "solution": false,
          "task": false
        }
      },
      "outputs": [],
      "source": [
        "from pyspark.sql import *\n",
        "from pyspark.sql.functions import *\n",
        "from pyspark import SparkContext, SparkConf, SparkFiles\n",
        "from pyspark.sql import SQLContext\n",
        "from graphframes import *"
      ]
    },
    {
      "cell_type": "code",
      "execution_count": null,
      "id": "72bed56b",
      "metadata": {
        "id": "72bed56b",
        "nbgrader": {
          "grade": false,
          "grade_id": "cell-spark-version",
          "locked": true,
          "schema_version": 3,
          "solution": false,
          "task": false
        },
        "outputId": "07b4e22b-a252-42fb-fe46-d9050e4e7ca8",
        "scrolled": true
      },
      "outputs": [
        {
          "data": {
            "text/html": [
              "\n",
              "            <div>\n",
              "                <p><b>SparkSession - hive</b></p>\n",
              "                \n",
              "        <div>\n",
              "            <p><b>SparkContext</b></p>\n",
              "\n",
              "            <p><a href=\"http://cluster-35c2-m.c.wired-climate-414717.internal:34119\">Spark UI</a></p>\n",
              "\n",
              "            <dl>\n",
              "              <dt>Version</dt>\n",
              "                <dd><code>v3.3.2</code></dd>\n",
              "              <dt>Master</dt>\n",
              "                <dd><code>yarn</code></dd>\n",
              "              <dt>AppName</dt>\n",
              "                <dd><code>PySparkShell</code></dd>\n",
              "            </dl>\n",
              "        </div>\n",
              "        \n",
              "            </div>\n",
              "        "
            ],
            "text/plain": [
              "<pyspark.sql.session.SparkSession at 0x7f3220f9d780>"
            ]
          },
          "execution_count": 13,
          "metadata": {},
          "output_type": "execute_result"
        }
      ],
      "source": [
        "spark"
      ]
    },
    {
      "cell_type": "code",
      "execution_count": null,
      "id": "980e62a5",
      "metadata": {
        "id": "980e62a5",
        "nbgrader": {
          "grade": false,
          "grade_id": "cell-bucket_name",
          "locked": false,
          "schema_version": 3,
          "solution": true,
          "task": false
        }
      },
      "outputs": [],
      "source": [
        "# Put your bucket name below and make sure you can access it without an error\n",
        "bucket_name = 'bucket_title'\n",
        "full_path = f\"gs://{bucket_name}/\"\n",
        "paths=[]\n",
        "\n",
        "client = storage.Client()\n",
        "blobs = client.list_blobs(bucket_name)\n",
        "for b in blobs:\n",
        "    if b.name != 'startup_script_gcp.sh':\n",
        "        paths.append(full_path+b.name)"
      ]
    },
    {
      "cell_type": "markdown",
      "id": "cac891c2",
      "metadata": {
        "id": "cac891c2"
      },
      "source": [
        "***GCP setup is complete!*** If you got here without any errors you've earned 10 out of the 35 points of this part."
      ]
    },
    {
      "cell_type": "markdown",
      "id": "582c3f5e",
      "metadata": {
        "id": "582c3f5e"
      },
      "source": [
        "# Building an inverted index"
      ]
    },
    {
      "cell_type": "markdown",
      "id": "481f2044",
      "metadata": {
        "id": "481f2044"
      },
      "source": [
        "Here, we read the entire corpus to an rdd, directly from Google Storage Bucket and use your code from Colab to construct an inverted index."
      ]
    },
    {
      "cell_type": "code",
      "execution_count": null,
      "id": "e4c523e7",
      "metadata": {
        "id": "e4c523e7",
        "scrolled": false,
        "outputId": "71332954-db7d-472c-c79e-3c937d8d92b2"
      },
      "outputs": [
        {
          "name": "stderr",
          "output_type": "stream",
          "text": [
            "                                                                                \r"
          ]
        }
      ],
      "source": [
        "parquetFile = spark.read.parquet(*paths)\n",
        "doc_text_pairs = parquetFile.select(\"title\", \"id\").rdd"
      ]
    },
    {
      "cell_type": "markdown",
      "id": "0d7e2971",
      "metadata": {
        "id": "0d7e2971"
      },
      "source": [
        "We will count the number of pages to make sure we are looking at the entire corpus. The number of pages should be more than 6M"
      ]
    },
    {
      "cell_type": "code",
      "execution_count": null,
      "id": "82881fbf",
      "metadata": {
        "id": "82881fbf",
        "outputId": "f3b92ae6-0dd3-45e3-9ec4-0257bcad4fca"
      },
      "outputs": [
        {
          "name": "stderr",
          "output_type": "stream",
          "text": [
            "                                                                                \r"
          ]
        },
        {
          "data": {
            "text/plain": [
              "6348910"
            ]
          },
          "execution_count": 16,
          "metadata": {},
          "output_type": "execute_result"
        }
      ],
      "source": [
        "# Count number of wiki pages\n",
        "parquetFile.count()"
      ]
    },
    {
      "cell_type": "markdown",
      "id": "701811af",
      "metadata": {
        "id": "701811af"
      },
      "source": [
        "Let's import the inverted index module. Note that you need to use the staff-provided version called `inverted_index_gcp.py`, which contains helper functions to writing and reading the posting files similar to the Colab version, but with writing done to a Google Cloud Storage bucket."
      ]
    },
    {
      "cell_type": "code",
      "execution_count": null,
      "id": "121fe102",
      "metadata": {
        "id": "121fe102",
        "outputId": "327fe81b-80f4-4b3a-8894-e74720d92e35"
      },
      "outputs": [
        {
          "name": "stdout",
          "output_type": "stream",
          "text": [
            "inverted_index_gcp.py\r\n"
          ]
        }
      ],
      "source": [
        "# if nothing prints here you forgot to upload the file inverted_index_gcp.py to the home dir\n",
        "%cd -q /home/dataproc\n",
        "!ls inverted_index_gcp.py"
      ]
    },
    {
      "cell_type": "code",
      "execution_count": null,
      "id": "57c101a8",
      "metadata": {
        "id": "57c101a8",
        "scrolled": true
      },
      "outputs": [],
      "source": [
        "# adding our python module to the cluster\n",
        "sc.addFile(\"/home/dataproc/inverted_index_gcp.py\")\n",
        "sys.path.insert(0,SparkFiles.getRootDirectory())"
      ]
    },
    {
      "cell_type": "code",
      "execution_count": null,
      "id": "c259c402",
      "metadata": {
        "id": "c259c402"
      },
      "outputs": [],
      "source": [
        "from inverted_index_gcp import InvertedIndex"
      ]
    },
    {
      "cell_type": "markdown",
      "id": "5540c727",
      "metadata": {
        "id": "5540c727"
      },
      "source": [
        "**YOUR TASK (10 POINTS)**: Use your implementation of `word_count`, `reduce_word_counts`, `calculate_df`, and `partition_postings_and_write` functions from Colab to build an inverted index for all of English Wikipedia in under 2 hours.\n",
        "\n",
        "A few notes:\n",
        "1. The number of corpus stopwords below is a bit bigger than the colab version since we are working on the whole corpus and not just on one file.\n",
        "2. You need to slightly modify your implementation of  `partition_postings_and_write` because the signature of `InvertedIndex.write_a_posting_list` has changed and now includes an additional argument called `bucket_name` for the target bucket. See the module for more details.\n",
        "3. You are not allowed to change any of the code not coming from Colab."
      ]
    },
    {
      "cell_type": "code",
      "execution_count": null,
      "id": "f3ad8fea",
      "metadata": {
        "id": "f3ad8fea",
        "nbgrader": {
          "grade": false,
          "grade_id": "cell-token2bucket",
          "locked": false,
          "schema_version": 3,
          "solution": true,
          "task": false
        }
      },
      "outputs": [],
      "source": [
        "english_stopwords = frozenset(stopwords.words('english'))\n",
        "corpus_stopwords = [\"category\", \"references\", \"also\", \"external\", \"links\",\n",
        "                    \"may\", \"first\", \"see\", \"history\", \"people\", \"one\", \"two\",\n",
        "                    \"part\", \"thumb\", \"including\", \"second\", \"following\",\n",
        "                    \"many\", \"however\", \"would\", \"became\"]\n",
        "\n",
        "all_stopwords = english_stopwords.union(corpus_stopwords)\n",
        "RE_WORD = re.compile(r\"\"\"[\\#\\@\\w](['\\-]?\\w){2,24}\"\"\", re.UNICODE)\n",
        "\n",
        "NUM_BUCKETS = 124\n",
        "def token2bucket_id(token):\n",
        "  return int(_hash(token),16) % NUM_BUCKETS\n",
        "\n",
        "def word_count(text, id):\n",
        "  tokens = [token.group() for token in RE_WORD.finditer(text.lower())]\n",
        "  # Filter out stopwords\n",
        "  tokens = [token for token in tokens if token not in all_stopwords]\n",
        "  tf = Counter(tokens)\n",
        "  # Convert the Counter object to a list of (token, (doc_id, tf)) tuples\n",
        "  return [(token, (id, freq)) for token, freq in tf.items()]\n",
        "\n",
        "def calculate_df(postings):\n",
        "  df_rdd = postings.map(lambda x: (x[0], len(x[1])))\n",
        "  return df_rdd\n",
        "\n",
        "def reduce_word_counts(unsorted_pl):\n",
        "  sorted_pl = sorted(unsorted_pl, key=lambda x: x[0])\n",
        "  return sorted_pl\n",
        "\n",
        "def partition_postings_and_write(postings, bucket_name=bucket_name):\n",
        "    postings_to_buckets = postings.map(lambda x: (token2bucket_id(x[0]), (x[0], x[1])))\n",
        "    postings_by_bucket = postings_to_buckets.groupByKey().mapValues(list)\n",
        "    posting_locations = postings_by_bucket.map(\n",
        "        lambda bucket: InvertedIndex.write_a_posting_list((bucket[0], list(bucket[1])), bucket_name)\n",
        "    )\n",
        "    return posting_locations"
      ]
    },
    {
      "cell_type": "code",
      "execution_count": null,
      "id": "55c8764e",
      "metadata": {
        "id": "55c8764e",
        "nbgrader": {
          "grade": false,
          "grade_id": "cell-index_construction",
          "locked": false,
          "schema_version": 3,
          "solution": true,
          "task": false
        },
        "outputId": "b1f6cef3-c0c0-4c18-fe7a-3af95b040481"
      },
      "outputs": [
        {
          "name": "stderr",
          "output_type": "stream",
          "text": [
            "                                                                                \r"
          ]
        }
      ],
      "source": [
        "# time the index creation time\n",
        "t_start = time()\n",
        "# word counts map\n",
        "word_counts = doc_text_pairs.flatMap(lambda x: word_count(x[0], x[1]))\n",
        "postings = word_counts.groupByKey().mapValues(reduce_word_counts)\n",
        "# filtering postings and calculate df\n",
        "postings_filtered = postings.filter(lambda x: len(x[1])>50)\n",
        "w2df = calculate_df(postings_filtered)\n",
        "w2df_dict = w2df.collectAsMap()\n",
        "# partition posting lists and write out\n",
        "_ = partition_postings_and_write(postings_filtered).collect()\n",
        "index_const_time = time() - t_start"
      ]
    },
    {
      "cell_type": "code",
      "execution_count": null,
      "id": "3dbc0e14",
      "metadata": {
        "id": "3dbc0e14",
        "nbgrader": {
          "grade": true,
          "grade_id": "cell-index_const_time",
          "locked": true,
          "points": 10,
          "schema_version": 3,
          "solution": false,
          "task": false
        }
      },
      "outputs": [],
      "source": [
        "# test index construction time\n",
        "assert index_const_time < 60*120"
      ]
    },
    {
      "cell_type": "code",
      "execution_count": null,
      "id": "ab3296f4",
      "metadata": {
        "id": "ab3296f4",
        "nbgrader": {
          "grade": true,
          "grade_id": "collect-posting",
          "locked": true,
          "points": 0,
          "schema_version": 3,
          "solution": false,
          "task": false
        }
      },
      "outputs": [],
      "source": [
        "# collect all posting lists locations into one super-set\n",
        "super_posting_locs = defaultdict(list)\n",
        "for blob in client.list_blobs(bucket_name, prefix='postings_gcp_title'):\n",
        "  if not blob.name.endswith(\"pickle\"):\n",
        "    continue\n",
        "  with blob.open(\"rb\") as f:\n",
        "    posting_locs = pickle.load(f)\n",
        "    for k, v in posting_locs.items():\n",
        "      super_posting_locs[k].extend(v)"
      ]
    },
    {
      "cell_type": "markdown",
      "id": "f6f66e3a",
      "metadata": {
        "id": "f6f66e3a"
      },
      "source": [
        "Putting it all together"
      ]
    },
    {
      "cell_type": "code",
      "execution_count": null,
      "id": "a5d2cfb6",
      "metadata": {
        "id": "a5d2cfb6",
        "outputId": "824ffc3f-c1a8-4119-8f0d-b85d35c5319e"
      },
      "outputs": [
        {
          "name": "stdout",
          "output_type": "stream",
          "text": [
            "Copying file://index.pkl [Content-Type=application/octet-stream]...\n",
            "/ [1 files][ 18.4 MiB/ 18.4 MiB]                                                \n",
            "Operation completed over 1 objects/18.4 MiB.                                     \n"
          ]
        }
      ],
      "source": [
        "# Create inverted index instance\n",
        "inverted = InvertedIndex()\n",
        "# Adding the posting locations dictionary to the inverted index\n",
        "inverted.posting_locs = super_posting_locs\n",
        "# Add the token - df dictionary to the inverted index\n",
        "inverted.df = w2df_dict\n",
        "# write the global stats out\n",
        "inverted.write_index('.', 'index')\n",
        "# upload to gs\n",
        "index_src = \"index.pkl\"\n",
        "index_dst = f'gs://{bucket_name}/postings_gcp_title/{index_src}'\n",
        "!gsutil cp $index_src $index_dst"
      ]
    },
    {
      "cell_type": "code",
      "execution_count": null,
      "id": "8f880d59",
      "metadata": {
        "id": "8f880d59",
        "nbgrader": {
          "grade": false,
          "grade_id": "cell-index_dst_size",
          "locked": true,
          "schema_version": 3,
          "solution": false,
          "task": false
        },
        "outputId": "6960ad19-727b-4219-fd71-955d168aeb38"
      },
      "outputs": [
        {
          "name": "stdout",
          "output_type": "stream",
          "text": [
            " 18.45 MiB  2024-02-20T12:05:42Z  gs://ex3adar/postings_gcp/index.pkl\r\n",
            "TOTAL: 1 objects, 19343013 bytes (18.45 MiB)\r\n"
          ]
        }
      ],
      "source": [
        "!gsutil ls -lh $index_dst"
      ]
    },
    {
      "cell_type": "markdown",
      "id": "c52dee14",
      "metadata": {
        "id": "c52dee14",
        "nbgrader": {
          "grade": false,
          "grade_id": "cell-2a6d655c112e79c5",
          "locked": true,
          "schema_version": 3,
          "solution": false,
          "task": false
        }
      },
      "source": [
        "# PageRank"
      ]
    },
    {
      "cell_type": "markdown",
      "id": "0875c6bd",
      "metadata": {
        "id": "0875c6bd",
        "nbgrader": {
          "grade": false,
          "grade_id": "cell-2fee4bc8d83c1e2a",
          "locked": true,
          "schema_version": 3,
          "solution": false,
          "task": false
        }
      },
      "source": [
        "**YOUR TASK (10 POINTS):** Compute PageRank for the entire English Wikipedia. Use your implementation for `generate_graph` function from Colab below."
      ]
    },
    {
      "cell_type": "code",
      "execution_count": null,
      "id": "31a516e2",
      "metadata": {
        "id": "31a516e2"
      },
      "outputs": [],
      "source": [
        "# Put your `generate_graph` function here\n",
        "def generate_graph(pages):\n",
        "  ''' Compute the directed graph generated by wiki links.\n",
        "  Parameters:\n",
        "  -----------\n",
        "    pages: RDD\n",
        "      An RDD where each row consists of one wikipedia articles with 'id' and\n",
        "      'anchor_text'.\n",
        "  Returns:\n",
        "  --------\n",
        "    edges: RDD\n",
        "      An RDD where each row represents an edge in the directed graph created by\n",
        "      the wikipedia links. The first entry should the source page id and the\n",
        "      second entry is the destination page id. No duplicates should be present.\n",
        "    vertices: RDD\n",
        "      An RDD where each row represents a vetrix (node) in the directed graph\n",
        "      created by the wikipedia links. No duplicates should be present.\n",
        "  '''\n",
        "  # Initialize vertices\n",
        "  sources = pages.map(lambda x:(x[0], ))\n",
        "  dests = pages.flatMap(lambda x:x[1]).map(lambda x:(x[0], ))\n",
        "  vertices = sources.union(dests).distinct()\n",
        "  # Construct edges\n",
        "  edges = pages.flatMapValues(lambda x:x)\n",
        "  edges = edges.map(lambda x:(x[0], x[1][0])).distinct()\n",
        "  return edges, vertices"
      ]
    },
    {
      "cell_type": "code",
      "execution_count": null,
      "id": "6bc05ba3",
      "metadata": {
        "id": "6bc05ba3",
        "nbgrader": {
          "grade": false,
          "grade_id": "cell-PageRank",
          "locked": false,
          "schema_version": 3,
          "solution": true,
          "task": false
        },
        "outputId": "41b0a537-f673-4a25-f683-289573bbcad0"
      },
      "outputs": [
        {
          "name": "stderr",
          "output_type": "stream",
          "text": [
            "24/02/20 12:34:13 WARN YarnAllocator: Container from a bad node: container_1708419947277_0002_01_000019 on host: cluster-35c2-w-1.c.wired-climate-414717.internal. Exit status: 143. Diagnostics: [2024-02-20 12:34:13.326]Container killed on request. Exit code is 143\n",
            "[2024-02-20 12:34:13.327]Container exited with a non-zero exit code 143. \n",
            "[2024-02-20 12:34:13.328]Killed by external signal\n",
            ".\n",
            "24/02/20 12:34:13 ERROR YarnScheduler: Lost executor 19 on cluster-35c2-w-1.c.wired-climate-414717.internal: Container from a bad node: container_1708419947277_0002_01_000019 on host: cluster-35c2-w-1.c.wired-climate-414717.internal. Exit status: 143. Diagnostics: [2024-02-20 12:34:13.326]Container killed on request. Exit code is 143\n",
            "[2024-02-20 12:34:13.327]Container exited with a non-zero exit code 143. \n",
            "[2024-02-20 12:34:13.328]Killed by external signal\n",
            ".\n",
            "24/02/20 12:34:13 WARN TaskSetManager: Lost task 141.0 in stage 20.0 (TID 1614) (cluster-35c2-w-1.c.wired-climate-414717.internal executor 19): ExecutorLostFailure (executor 19 exited caused by one of the running tasks) Reason: Container from a bad node: container_1708419947277_0002_01_000019 on host: cluster-35c2-w-1.c.wired-climate-414717.internal. Exit status: 143. Diagnostics: [2024-02-20 12:34:13.326]Container killed on request. Exit code is 143\n",
            "[2024-02-20 12:34:13.327]Container exited with a non-zero exit code 143. \n",
            "[2024-02-20 12:34:13.328]Killed by external signal\n",
            ".\n",
            "24/02/20 12:34:13 WARN TaskSetManager: Lost task 142.0 in stage 20.0 (TID 1615) (cluster-35c2-w-1.c.wired-climate-414717.internal executor 19): ExecutorLostFailure (executor 19 exited caused by one of the running tasks) Reason: Container from a bad node: container_1708419947277_0002_01_000019 on host: cluster-35c2-w-1.c.wired-climate-414717.internal. Exit status: 143. Diagnostics: [2024-02-20 12:34:13.326]Container killed on request. Exit code is 143\n",
            "[2024-02-20 12:34:13.327]Container exited with a non-zero exit code 143. \n",
            "[2024-02-20 12:34:13.328]Killed by external signal\n",
            ".\n",
            "24/02/20 12:34:13 WARN YarnSchedulerBackend$YarnSchedulerEndpoint: Requesting driver to remove executor 19 for reason Container from a bad node: container_1708419947277_0002_01_000019 on host: cluster-35c2-w-1.c.wired-climate-414717.internal. Exit status: 143. Diagnostics: [2024-02-20 12:34:13.326]Container killed on request. Exit code is 143\n",
            "[2024-02-20 12:34:13.327]Container exited with a non-zero exit code 143. \n",
            "[2024-02-20 12:34:13.328]Killed by external signal\n",
            ".\n",
            "24/02/20 12:34:17 WARN YarnAllocator: Container from a bad node: container_1708419947277_0002_01_000020 on host: cluster-35c2-w-0.c.wired-climate-414717.internal. Exit status: 143. Diagnostics: [2024-02-20 12:34:17.026]Container killed on request. Exit code is 143\n",
            "[2024-02-20 12:34:17.026]Container exited with a non-zero exit code 143. \n",
            "[2024-02-20 12:34:17.026]Killed by external signal\n",
            ".\n",
            "24/02/20 12:34:17 WARN YarnSchedulerBackend$YarnSchedulerEndpoint: Requesting driver to remove executor 20 for reason Container from a bad node: container_1708419947277_0002_01_000020 on host: cluster-35c2-w-0.c.wired-climate-414717.internal. Exit status: 143. Diagnostics: [2024-02-20 12:34:17.026]Container killed on request. Exit code is 143\n",
            "[2024-02-20 12:34:17.026]Container exited with a non-zero exit code 143. \n",
            "[2024-02-20 12:34:17.026]Killed by external signal\n",
            ".\n",
            "24/02/20 12:34:17 ERROR YarnScheduler: Lost executor 20 on cluster-35c2-w-0.c.wired-climate-414717.internal: Container from a bad node: container_1708419947277_0002_01_000020 on host: cluster-35c2-w-0.c.wired-climate-414717.internal. Exit status: 143. Diagnostics: [2024-02-20 12:34:17.026]Container killed on request. Exit code is 143\n",
            "[2024-02-20 12:34:17.026]Container exited with a non-zero exit code 143. \n",
            "[2024-02-20 12:34:17.026]Killed by external signal\n",
            ".\n",
            "24/02/20 12:34:17 WARN TaskSetManager: Lost task 150.0 in stage 20.0 (TID 1623) (cluster-35c2-w-0.c.wired-climate-414717.internal executor 20): ExecutorLostFailure (executor 20 exited caused by one of the running tasks) Reason: Container from a bad node: container_1708419947277_0002_01_000020 on host: cluster-35c2-w-0.c.wired-climate-414717.internal. Exit status: 143. Diagnostics: [2024-02-20 12:34:17.026]Container killed on request. Exit code is 143\n",
            "[2024-02-20 12:34:17.026]Container exited with a non-zero exit code 143. \n",
            "[2024-02-20 12:34:17.026]Killed by external signal\n",
            ".\n",
            "24/02/20 12:34:17 WARN TaskSetManager: Lost task 145.0 in stage 20.0 (TID 1618) (cluster-35c2-w-0.c.wired-climate-414717.internal executor 20): ExecutorLostFailure (executor 20 exited caused by one of the running tasks) Reason: Container from a bad node: container_1708419947277_0002_01_000020 on host: cluster-35c2-w-0.c.wired-climate-414717.internal. Exit status: 143. Diagnostics: [2024-02-20 12:34:17.026]Container killed on request. Exit code is 143\n",
            "[2024-02-20 12:34:17.026]Container exited with a non-zero exit code 143. \n",
            "[2024-02-20 12:34:17.026]Killed by external signal\n",
            ".\n",
            "/usr/lib/spark/python/pyspark/sql/dataframe.py:148: UserWarning: DataFrame.sql_ctx is an internal property, and will be removed in future releases. Use DataFrame.sparkSession instead.\n",
            "  warnings.warn(\n",
            "24/02/20 12:40:44 WARN YarnAllocator: Container from a bad node: container_1708419947277_0002_01_000018 on host: cluster-35c2-w-1.c.wired-climate-414717.internal. Exit status: 143. Diagnostics: [2024-02-20 12:40:44.466]Container killed on request. Exit code is 143\n",
            "[2024-02-20 12:40:44.467]Container exited with a non-zero exit code 143. \n",
            "[2024-02-20 12:40:44.467]Killed by external signal\n",
            ".\n",
            "24/02/20 12:40:44 WARN YarnSchedulerBackend$YarnSchedulerEndpoint: Requesting driver to remove executor 18 for reason Container from a bad node: container_1708419947277_0002_01_000018 on host: cluster-35c2-w-1.c.wired-climate-414717.internal. Exit status: 143. Diagnostics: [2024-02-20 12:40:44.466]Container killed on request. Exit code is 143\n",
            "[2024-02-20 12:40:44.467]Container exited with a non-zero exit code 143. \n",
            "[2024-02-20 12:40:44.467]Killed by external signal\n",
            ".\n",
            "24/02/20 12:40:44 ERROR YarnScheduler: Lost executor 18 on cluster-35c2-w-1.c.wired-climate-414717.internal: Container from a bad node: container_1708419947277_0002_01_000018 on host: cluster-35c2-w-1.c.wired-climate-414717.internal. Exit status: 143. Diagnostics: [2024-02-20 12:40:44.466]Container killed on request. Exit code is 143\n",
            "[2024-02-20 12:40:44.467]Container exited with a non-zero exit code 143. \n",
            "[2024-02-20 12:40:44.467]Killed by external signal\n",
            ".\n",
            "24/02/20 12:40:44 WARN TaskSetManager: Lost task 11.0 in stage 25.0 (TID 1985) (cluster-35c2-w-1.c.wired-climate-414717.internal executor 18): ExecutorLostFailure (executor 18 exited caused by one of the running tasks) Reason: Container from a bad node: container_1708419947277_0002_01_000018 on host: cluster-35c2-w-1.c.wired-climate-414717.internal. Exit status: 143. Diagnostics: [2024-02-20 12:40:44.466]Container killed on request. Exit code is 143\n",
            "[2024-02-20 12:40:44.467]Container exited with a non-zero exit code 143. \n",
            "[2024-02-20 12:40:44.467]Killed by external signal\n",
            ".\n",
            "24/02/20 12:40:44 WARN TaskSetManager: Lost task 15.0 in stage 25.0 (TID 1989) (cluster-35c2-w-1.c.wired-climate-414717.internal executor 18): ExecutorLostFailure (executor 18 exited caused by one of the running tasks) Reason: Container from a bad node: container_1708419947277_0002_01_000018 on host: cluster-35c2-w-1.c.wired-climate-414717.internal. Exit status: 143. Diagnostics: [2024-02-20 12:40:44.466]Container killed on request. Exit code is 143\n",
            "[2024-02-20 12:40:44.467]Container exited with a non-zero exit code 143. \n",
            "[2024-02-20 12:40:44.467]Killed by external signal\n",
            ".\n",
            "24/02/20 12:40:49 WARN YarnAllocator: Container from a bad node: container_1708419947277_0002_01_000021 on host: cluster-35c2-w-0.c.wired-climate-414717.internal. Exit status: 143. Diagnostics: [2024-02-20 12:40:49.442]Container killed on request. Exit code is 143\n",
            "[2024-02-20 12:40:49.443]Container exited with a non-zero exit code 143. \n",
            "[2024-02-20 12:40:49.443]Killed by external signal\n",
            ".\n",
            "24/02/20 12:40:49 WARN YarnSchedulerBackend$YarnSchedulerEndpoint: Requesting driver to remove executor 21 for reason Container from a bad node: container_1708419947277_0002_01_000021 on host: cluster-35c2-w-0.c.wired-climate-414717.internal. Exit status: 143. Diagnostics: [2024-02-20 12:40:49.442]Container killed on request. Exit code is 143\n",
            "[2024-02-20 12:40:49.443]Container exited with a non-zero exit code 143. \n",
            "[2024-02-20 12:40:49.443]Killed by external signal\n",
            ".\n",
            "24/02/20 12:40:49 ERROR YarnScheduler: Lost executor 21 on cluster-35c2-w-0.c.wired-climate-414717.internal: Container from a bad node: container_1708419947277_0002_01_000021 on host: cluster-35c2-w-0.c.wired-climate-414717.internal. Exit status: 143. Diagnostics: [2024-02-20 12:40:49.442]Container killed on request. Exit code is 143\n",
            "[2024-02-20 12:40:49.443]Container exited with a non-zero exit code 143. \n",
            "[2024-02-20 12:40:49.443]Killed by external signal\n",
            ".\n",
            "24/02/20 12:40:49 WARN TaskSetManager: Lost task 17.0 in stage 25.0 (TID 1993) (cluster-35c2-w-0.c.wired-climate-414717.internal executor 21): ExecutorLostFailure (executor 21 exited caused by one of the running tasks) Reason: Container from a bad node: container_1708419947277_0002_01_000021 on host: cluster-35c2-w-0.c.wired-climate-414717.internal. Exit status: 143. Diagnostics: [2024-02-20 12:40:49.442]Container killed on request. Exit code is 143\n",
            "[2024-02-20 12:40:49.443]Container exited with a non-zero exit code 143. \n",
            "[2024-02-20 12:40:49.443]Killed by external signal\n",
            ".\n",
            "24/02/20 12:40:49 WARN TaskSetManager: Lost task 19.0 in stage 25.0 (TID 1995) (cluster-35c2-w-0.c.wired-climate-414717.internal executor 21): ExecutorLostFailure (executor 21 exited caused by one of the running tasks) Reason: Container from a bad node: container_1708419947277_0002_01_000021 on host: cluster-35c2-w-0.c.wired-climate-414717.internal. Exit status: 143. Diagnostics: [2024-02-20 12:40:49.442]Container killed on request. Exit code is 143\n",
            "[2024-02-20 12:40:49.443]Container exited with a non-zero exit code 143. \n",
            "[2024-02-20 12:40:49.443]Killed by external signal\n",
            ".\n",
            "/usr/lib/spark/python/pyspark/sql/dataframe.py:127: UserWarning: DataFrame constructor is internal. Do not directly use it.\n",
            "  warnings.warn(\"DataFrame constructor is internal. Do not directly use it.\")\n",
            "                                                                                \r"
          ]
        },
        {
          "name": "stdout",
          "output_type": "stream",
          "text": [
            "+-------+------------------+\n",
            "|     id|          pagerank|\n",
            "+-------+------------------+\n",
            "|3434750| 9917.889528786587|\n",
            "|  10568| 5387.609470096127|\n",
            "|  32927| 5284.298441243095|\n",
            "|  30680|  5130.38600583619|\n",
            "|5843419| 4959.648354746545|\n",
            "|  68253| 4771.279909629094|\n",
            "|  31717| 4488.233081199125|\n",
            "|  11867|4148.1548821766155|\n",
            "|  14533|3998.1437395714406|\n",
            "| 645042| 3533.109297540146|\n",
            "|  17867|3247.4607632514612|\n",
            "|5042916| 2993.201445108149|\n",
            "|4689264| 2983.576551154407|\n",
            "|  14532|2935.9785290242503|\n",
            "|  25391|2904.7648285829764|\n",
            "|   5405| 2892.629843363034|\n",
            "|4764461| 2835.556558193232|\n",
            "|  15573|2785.0334936159043|\n",
            "|   9316|2783.2072557286942|\n",
            "|8569916|2776.4509667609454|\n",
            "+-------+------------------+\n",
            "only showing top 20 rows\n",
            "\n"
          ]
        }
      ],
      "source": [
        "t_start = time()\n",
        "#pages_links = spark.read.parquet(\"gs://wikidata_preprocessed/*\").select(\"id\", \"anchor_text\").rdd\n",
        "pages_links = parquetFile.select (\"id\",\"anchor_text\").rdd\n",
        "# construct the graph\n",
        "edges, vertices = generate_graph(pages_links)\n",
        "# compute PageRank\n",
        "edgesDF = edges.toDF(['src', 'dst']).repartition(124, 'src')\n",
        "verticesDF = vertices.toDF(['id']).repartition(124, 'id')\n",
        "g = GraphFrame(verticesDF, edgesDF)\n",
        "pr_results = g.pageRank(resetProbability=0.15, maxIter=6)\n",
        "pr = pr_results.vertices.select(\"id\", \"pagerank\")\n",
        "pr = pr.sort(col('pagerank').desc())\n",
        "pr.repartition(1).write.csv(f'gs://{bucket_name}/pr', compression=\"gzip\")\n",
        "pr_time = time() - t_start\n",
        "pr.show()"
      ]
    },
    {
      "cell_type": "code",
      "execution_count": null,
      "id": "f7717604",
      "metadata": {
        "id": "f7717604",
        "nbgrader": {
          "grade": true,
          "grade_id": "cell-PageRank_time",
          "locked": true,
          "points": 10,
          "schema_version": 3,
          "solution": false,
          "task": false
        }
      },
      "outputs": [],
      "source": [
        "# test that PageRank computaion took less than 1 hour\n",
        "assert pr_time < 120*60"
      ]
    },
    {
      "cell_type": "markdown",
      "id": "96e9a610",
      "metadata": {
        "id": "96e9a610"
      },
      "source": [
        "# Reporting"
      ]
    },
    {
      "cell_type": "markdown",
      "id": "a1da57c7",
      "metadata": {
        "id": "a1da57c7"
      },
      "source": [
        "**YOUR TASK (5 points):** execute and complete the following lines to complete\n",
        "the reporting requirements for assignment #3."
      ]
    },
    {
      "cell_type": "code",
      "execution_count": null,
      "id": "0f0d5523",
      "metadata": {
        "id": "0f0d5523",
        "nbgrader": {
          "grade": false,
          "grade_id": "cell-size_ofi_input_data",
          "locked": true,
          "schema_version": 3,
          "solution": false,
          "task": false
        },
        "outputId": "54595c29-4ae3-4b78-86d0-d8457ae9c150"
      },
      "outputs": [
        {
          "name": "stdout",
          "output_type": "stream",
          "text": [
            "14.28 GiB    gs://wikidata_preprocessed\r\n"
          ]
        }
      ],
      "source": [
        "# size of input data\n",
        "!gsutil du -sh \"gs://wikidata_preprocessed/\""
      ]
    },
    {
      "cell_type": "code",
      "execution_count": null,
      "id": "ce25a98a",
      "metadata": {
        "id": "ce25a98a",
        "nbgrader": {
          "grade": false,
          "grade_id": "cell-size_of_index_data",
          "locked": true,
          "schema_version": 3,
          "solution": false,
          "task": false
        },
        "outputId": "44d9721a-1cd7-4e59-9f78-5439864cfdad"
      },
      "outputs": [
        {
          "name": "stdout",
          "output_type": "stream",
          "text": [
            "5.92 GiB     gs://ex3adar/postings_gcp\r\n"
          ]
        }
      ],
      "source": [
        "# size of index data\n",
        "index_dst = f'gs://{bucket_name}/postings_gcp_title/'\n",
        "!gsutil du -sh \"$index_dst\""
      ]
    },
    {
      "cell_type": "code",
      "execution_count": null,
      "id": "7a9538ee",
      "metadata": {
        "id": "7a9538ee",
        "nbgrader": {
          "grade": false,
          "grade_id": "cell-credits",
          "locked": true,
          "schema_version": 3,
          "solution": false,
          "task": false
        },
        "outputId": "a6df60a6-a51f-470b-f059-283a6e4f9faf"
      },
      "outputs": [
        {
          "name": "stdout",
          "output_type": "stream",
          "text": [
            "I used 0 USD credit during the course of this assignment\n"
          ]
        }
      ],
      "source": [
        "# How many USD credits did you use in GCP during the course of this assignment?\n",
        "cost = 0\n",
        "print(f'I used {cost} USD credit during the course of this assignment')"
      ]
    },
    {
      "cell_type": "markdown",
      "id": "fb0e0ed8",
      "metadata": {
        "id": "fb0e0ed8"
      },
      "source": [
        "**Bonus (10 points)** if you implement PageRank in pure PySpark, i.e. without using the GraphFrames package, AND manage to complete 10 iterations of your algorithm on the entire English Wikipedia in less than an hour.\n"
      ]
    },
    {
      "cell_type": "code",
      "execution_count": null,
      "id": "b8157868",
      "metadata": {
        "nbgrader": {
          "grade": false,
          "grade_id": "cell-PageRank_Bonus",
          "locked": false,
          "schema_version": 3,
          "solution": true,
          "task": false
        },
        "id": "b8157868"
      },
      "outputs": [],
      "source": [
        "#If you have decided to do the bonus task - please copy the code here\n",
        "\n",
        "bonus_flag = False # Turn flag on (True) if you have implemented this part\n",
        "\n",
        "t_start = time()\n",
        "\n",
        "# PLACE YOUR CODE HERE\n",
        "\n",
        "pr_time_Bonus = time() - t_start\n"
      ]
    },
    {
      "cell_type": "code",
      "execution_count": null,
      "id": "855f9c94",
      "metadata": {
        "nbgrader": {
          "grade": true,
          "grade_id": "cell-PageRank_Bonus-time",
          "locked": true,
          "points": 10,
          "schema_version": 3,
          "solution": false,
          "task": false
        },
        "id": "855f9c94",
        "outputId": "a828423e-9f8d-4278-be3c-fee3d42de009"
      },
      "outputs": [
        {
          "ename": "AssertionError",
          "evalue": "",
          "output_type": "error",
          "traceback": [
            "\u001b[0;31m---------------------------------------------------------------------------\u001b[0m",
            "\u001b[0;31mAssertionError\u001b[0m                            Traceback (most recent call last)",
            "\u001b[0;32m/tmp/ipykernel_10293/574311967.py\u001b[0m in \u001b[0;36m<cell line: 2>\u001b[0;34m()\u001b[0m\n\u001b[1;32m      1\u001b[0m \u001b[0;31m# Note:test that PageRank computaion took less than 1 hour\u001b[0m\u001b[0;34m\u001b[0m\u001b[0;34m\u001b[0m\u001b[0m\n\u001b[0;32m----> 2\u001b[0;31m \u001b[0;32massert\u001b[0m \u001b[0mpr_time_Bonus\u001b[0m \u001b[0;34m<\u001b[0m \u001b[0;36m60\u001b[0m\u001b[0;34m*\u001b[0m\u001b[0;36m60\u001b[0m \u001b[0;32mand\u001b[0m \u001b[0mbonus_flag\u001b[0m\u001b[0;34m\u001b[0m\u001b[0;34m\u001b[0m\u001b[0m\n\u001b[0m",
            "\u001b[0;31mAssertionError\u001b[0m: "
          ]
        }
      ],
      "source": [
        "# Note:test that PageRank computaion took less than 1 hour\n",
        "assert pr_time_Bonus < 60*60 and bonus_flag"
      ]
    },
    {
      "cell_type": "code",
      "execution_count": null,
      "id": "92fa49c6",
      "metadata": {
        "id": "92fa49c6"
      },
      "outputs": [],
      "source": []
    }
  ],
  "metadata": {
    "celltoolbar": "Create Assignment",
    "colab": {
      "provenance": [],
      "toc_visible": true
    },
    "kernelspec": {
      "display_name": "PySpark",
      "language": "python",
      "name": "pyspark"
    },
    "language_info": {
      "codemirror_mode": {
        "name": "ipython",
        "version": 3
      },
      "file_extension": ".py",
      "mimetype": "text/x-python",
      "name": "python",
      "nbconvert_exporter": "python",
      "pygments_lexer": "ipython3",
      "version": "3.10.8"
    }
  },
  "nbformat": 4,
  "nbformat_minor": 5
}